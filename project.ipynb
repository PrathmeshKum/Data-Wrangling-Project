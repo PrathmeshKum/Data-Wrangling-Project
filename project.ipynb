{
 "cells": [
  {
   "cell_type": "code",
   "execution_count": 1,
   "metadata": {
    "collapsed": true
   },
   "outputs": [],
   "source": [
    "# 1. Creating database file for analysis:\n",
    "#    Forming table for nodes based on nodes.csv file\n",
    "    \n",
    "import sqlite3\n",
    "import csv\n",
    "from pprint import pprint\n",
    "\n",
    "sqlite_file = \"project.db\"\n",
    "conn = sqlite3.connect(sqlite_file)\n",
    "conn.text_factory = str\n",
    "cur = conn.cursor()\n",
    "\n",
    "cur.execute('DROP TABLE IF EXISTS nodes')\n",
    "conn.commit()\n",
    "\n",
    "cur.execute('''\n",
    "    Create Table nodes(id INTEGER, lat REAL, lon REAL, user TEXT, uid INTEGER, version TEXT, changeset INTEGER, timestamp TEXT)\n",
    "''')\n",
    "\n",
    "conn.commit()\n",
    "\n",
    "\n",
    "with open('nodes.csv','r') as file:\n",
    "    table = csv.DictReader(file)\n",
    "    to_table = [(i['id'], i['lat'], i['lon'], i['user'], i['uid'], i['version'], i['changeset'], i['timestamp']) for i in table]\n",
    "    cur.executemany(\"INSERT INTO nodes(id, lat, lon, user, uid, version, changeset, timestamp) VALUES (?,?,?,?,?,?,?,?);\", to_table)\n",
    "\n",
    "conn.commit()"
   ]
  },
  {
   "cell_type": "code",
   "execution_count": 2,
   "metadata": {},
   "outputs": [
    {
     "name": "stdout",
     "output_type": "stream",
     "text": [
      "[(575548,)]\n"
     ]
    }
   ],
   "source": [
    "# 2. Getting number of nodes in the table:\n",
    "\n",
    "cur.execute(\"SELECT COUNT(*) FROM nodes;\")\n",
    "print(cur.fetchall())"
   ]
  },
  {
   "cell_type": "code",
   "execution_count": 3,
   "metadata": {
    "collapsed": true
   },
   "outputs": [],
   "source": [
    "# 3. Forming table for ways based on ways.csv file\n",
    "\n",
    "cur.execute('DROP TABLE IF EXISTS ways')\n",
    "conn.commit()\n",
    "\n",
    "cur.execute('''\n",
    "    Create Table ways(id INTEGER, user TEXT, uid INTEGER, version TEXT, changeset INTEGER, timestamp TEXT)\n",
    "''')\n",
    "\n",
    "conn.commit()\n",
    "\n",
    "\n",
    "with open('ways.csv','r') as file:\n",
    "    table = csv.DictReader(file)\n",
    "    to_table = [(i['id'], i['user'], i['uid'], i['version'], i['changeset'], i['timestamp']) for i in table]\n",
    "    cur.executemany(\"INSERT INTO ways(id, user, uid, version, changeset, timestamp) VALUES (?,?,?,?,?,?);\", to_table)\n",
    "\n",
    "conn.commit()"
   ]
  },
  {
   "cell_type": "code",
   "execution_count": 4,
   "metadata": {},
   "outputs": [
    {
     "name": "stdout",
     "output_type": "stream",
     "text": [
      "[(68024,)]\n"
     ]
    }
   ],
   "source": [
    "# 4. Getting number of ways in the table:\n",
    "\n",
    "cur.execute(\"SELECT COUNT(*) FROM ways;\")\n",
    "print(cur.fetchall())"
   ]
  },
  {
   "cell_type": "code",
   "execution_count": 5,
   "metadata": {
    "collapsed": true
   },
   "outputs": [],
   "source": [
    "# 5. Forming table for node_tags based on node_tags.csv file\n",
    "\n",
    "cur.execute('DROP TABLE IF EXISTS nodes_tags')\n",
    "conn.commit()\n",
    "\n",
    "cur.execute('''\n",
    "    Create Table nodes_tags(id INTEGER, key TEXT, value TEXT, type TEXT)\n",
    "''')\n",
    "\n",
    "conn.commit()\n",
    "\n",
    "with open('nodes_tags.csv','r') as file:\n",
    "    table = csv.DictReader(file)\n",
    "    to_table = [(i['id'], i['key'], i['value'], i['type']) for i in table]\n",
    "    cur.executemany(\"INSERT INTO nodes_tags(id, key, value, type) VALUES (?,?,?,?);\", to_table)\n",
    "\n",
    "conn.commit()"
   ]
  },
  {
   "cell_type": "code",
   "execution_count": 6,
   "metadata": {
    "collapsed": true
   },
   "outputs": [],
   "source": [
    "# 6. Forming table for way_tags based on way_tags.csv file\n",
    "\n",
    "cur.execute('DROP TABLE IF EXISTS ways_tags')\n",
    "conn.commit()\n",
    "\n",
    "cur.execute('''\n",
    "    Create Table ways_tags(id INTEGER, key TEXT, value TEXT, type TEXT)\n",
    "''')\n",
    "\n",
    "conn.commit()\n",
    "\n",
    "with open('ways_tags.csv','r') as file:\n",
    "    table = csv.DictReader(file)\n",
    "    to_table = [(i['id'], i['key'], i['value'], i['type']) for i in table]\n",
    "    cur.executemany(\"INSERT INTO ways_tags(id, key, value, type) VALUES (?,?,?,?);\", to_table)\n",
    "\n",
    "conn.commit()"
   ]
  },
  {
   "cell_type": "code",
   "execution_count": 7,
   "metadata": {
    "collapsed": true
   },
   "outputs": [],
   "source": [
    "# 6. Forming table for way_nodes based on way_nodes.csv file\n",
    "\n",
    "cur.execute('DROP TABLE IF EXISTS ways_nodes')\n",
    "conn.commit()\n",
    "\n",
    "cur.execute('''\n",
    "    Create Table ways_nodes(id INTEGER, node_id INTEGER, position INTEGER)\n",
    "''')\n",
    "\n",
    "conn.commit()\n",
    "\n",
    "with open('ways_nodes.csv','r') as file:\n",
    "    table = csv.DictReader(file)\n",
    "    to_table = [(i['id'], i['node_id'], i['position']) for i in table]\n",
    "    cur.executemany(\"INSERT INTO ways_nodes(id, node_id, position) VALUES (?,?,?);\", to_table)\n",
    "\n",
    "conn.commit()"
   ]
  },
  {
   "cell_type": "code",
   "execution_count": 8,
   "metadata": {},
   "outputs": [
    {
     "name": "stdout",
     "output_type": "stream",
     "text": [
      "[(692,)]\n",
      "[('chadbunn', 244599), ('butlerm', 69490), ('mvexel', 50240), ('wrk3', 37352), ('mash84121', 31834), ('woodpeck_fixbot', 22952), ('nemmer', 16151), ('balcoath', 13526), ('TheDutchMan13', 11184), ('Val', 9913)]\n"
     ]
    }
   ],
   "source": [
    "# Analysis 1: Total Number of Unique Users and 10 Most Common Ones:\n",
    "\n",
    "\n",
    "cur.execute(\"SELECT COUNT(DISTINCT(e.uid)) \\\n",
    "             FROM (SELECT uid FROM nodes UNION ALL SELECT uid FROM ways) e;\")\n",
    "\n",
    "print(cur.fetchall())\n",
    "\n",
    "\n",
    "cur.execute(\"SELECT e.user, COUNT(*) as num FROM (SELECT user FROM nodes UNION ALL SELECT user FROM ways) e \\\n",
    "             GROUP BY e.user \\\n",
    "             ORDER BY num DESC LIMIT 10;\")\n",
    "\n",
    "print(cur.fetchall())"
   ]
  },
  {
   "cell_type": "code",
   "execution_count": 9,
   "metadata": {},
   "outputs": [
    {
     "name": "stdout",
     "output_type": "stream",
     "text": [
      "[('christian', 532),\n",
      " ('muslim', 3),\n",
      " ('buddhist', 2),\n",
      " ('jewish', 1),\n",
      " ('scientologist', 1),\n",
      " ('unitarian_universalist', 1)]\n"
     ]
    }
   ],
   "source": [
    "# Analysis 2: Distribution of Religion in the City:\n",
    "\n",
    "import pprint\n",
    "cur.execute (\"SELECT tags.value, COUNT(*) as num FROM (SELECT * FROM nodes_tags UNION ALL \\\n",
    "             SELECT * FROM ways_tags) tags \\\n",
    "             WHERE tags.key LIKE '%religion'\\\n",
    "             GROUP BY tags.value \\\n",
    "             ORDER BY num DESC;\")\n",
    "\n",
    "pprint.pprint(cur.fetchall())"
   ]
  },
  {
   "cell_type": "code",
   "execution_count": 10,
   "metadata": {},
   "outputs": [
    {
     "name": "stdout",
     "output_type": "stream",
     "text": [
      "[(45,)]\n"
     ]
    }
   ],
   "source": [
    "# Analysis 3: Number of drinking bars in the City:\n",
    "\n",
    "cur.execute(\"SELECT COUNT(*) FROM nodes_tags WHERE value LIKE '%bar';\")\n",
    "print(cur.fetchall())"
   ]
  },
  {
   "cell_type": "code",
   "execution_count": 11,
   "metadata": {},
   "outputs": [
    {
     "name": "stdout",
     "output_type": "stream",
     "text": [
      "[('parking', 1020),\n",
      " ('restaurant', 709),\n",
      " ('place_of_worship', 540),\n",
      " ('fast_food', 294),\n",
      " ('school', 283),\n",
      " ('fuel', 141),\n",
      " ('bank', 124),\n",
      " ('cafe', 102),\n",
      " ('bench', 99),\n",
      " ('toilets', 68),\n",
      " ('drinking_water', 50),\n",
      " ('bar', 37),\n",
      " ('shelter', 36),\n",
      " ('bicycle_parking', 34),\n",
      " ('bicycle_rental', 33),\n",
      " ('parking_entrance', 28),\n",
      " ('library', 27),\n",
      " ('post_office', 27),\n",
      " ('fire_station', 26),\n",
      " ('pharmacy', 24),\n",
      " ('theatre', 22),\n",
      " ('atm', 20),\n",
      " ('car_wash', 20),\n",
      " ('fountain', 19),\n",
      " ('hospital', 18),\n",
      " ('cinema', 16),\n",
      " ('pub', 16),\n",
      " ('post_box', 15),\n",
      " ('vending_machine', 13),\n",
      " ('clinic', 11),\n",
      " ('doctors', 10),\n",
      " ('grave_yard', 10),\n",
      " ('public_building', 10),\n",
      " ('university', 10),\n",
      " ('dentist', 9),\n",
      " ('police', 9),\n",
      " ('waste_basket', 9),\n",
      " ('bicycle_repair_station', 8),\n",
      " ('car_rental', 8),\n",
      " ('recycling', 8),\n",
      " ('college', 7),\n",
      " ('nightclub', 7),\n",
      " ('veterinary', 7),\n",
      " ('bbq', 6),\n",
      " ('charging_station', 6),\n",
      " ('studio', 6),\n",
      " ('townhall', 6),\n",
      " ('arts_centre', 5),\n",
      " ('community_centre', 5),\n",
      " ('ice_cream', 5),\n",
      " ('social_facility', 5),\n",
      " ('telephone', 5),\n",
      " ('bus_station', 4),\n",
      " ('childcare', 4),\n",
      " ('courthouse', 4),\n",
      " ('parking_space', 4),\n",
      " ('disused', 2),\n",
      " ('events_venue', 2),\n",
      " ('grocery', 2),\n",
      " ('kindergarten', 2),\n",
      " ('marketplace', 2),\n",
      " ('nursing_home', 2),\n",
      " ('social_centre', 2),\n",
      " ('swimming_pool', 2),\n",
      " ('Furniture Store', 1),\n",
      " ('Portable Toilet Supplier;Trailer Rental Service;Construction Equipment Supplier;Fence Contractor',\n",
      "  1),\n",
      " ('animal_boarding', 1),\n",
      " ('bureau_de_change', 1),\n",
      " ('clock', 1),\n",
      " ('convention_center', 1),\n",
      " ('dojo', 1),\n",
      " ('fairgrounds', 1),\n",
      " ('food_court', 1),\n",
      " ('leisure', 1),\n",
      " ('loading_dock', 1),\n",
      " ('music_school', 1),\n",
      " ('park', 1),\n",
      " ('retail', 1),\n",
      " ('retirement_home', 1),\n",
      " ('self_storage', 1),\n",
      " ('shoeshine', 1),\n",
      " ('smoking_area', 1),\n",
      " ('spa', 1),\n",
      " ('taxi', 1),\n",
      " ('trailer_park', 1),\n",
      " ('training', 1),\n",
      " ('truck_rental', 1),\n",
      " ('university;arts_centre', 1),\n",
      " ('yes', 1)]\n"
     ]
    }
   ],
   "source": [
    "# Analysis 4: Overview of Amenities Available in the City:\n",
    "\n",
    "import pprint\n",
    "cur.execute (\"SELECT tags.value, COUNT(*) as num FROM (SELECT * FROM nodes_tags UNION ALL \\\n",
    "             SELECT * FROM ways_tags) tags \\\n",
    "             WHERE tags.key LIKE '%amenity'\\\n",
    "             GROUP BY tags.value \\\n",
    "             ORDER BY num DESC;\")\n",
    "\n",
    "pprint.pprint(cur.fetchall())"
   ]
  },
  {
   "cell_type": "code",
   "execution_count": 12,
   "metadata": {},
   "outputs": [
    {
     "name": "stdout",
     "output_type": "stream",
     "text": [
      "[('clothes', 118),\n",
      " ('convenience', 66),\n",
      " ('yes', 48),\n",
      " ('supermarket', 46),\n",
      " ('hairdresser', 44),\n",
      " ('car_repair', 39),\n",
      " ('department_store', 36),\n",
      " ('beauty', 35),\n",
      " ('mobile_phone', 31),\n",
      " ('car', 27),\n",
      " ('jewelry', 24),\n",
      " ('shoes', 23),\n",
      " ('bicycle', 20),\n",
      " ('books', 20),\n",
      " ('bakery', 16),\n",
      " ('furniture', 15),\n",
      " ('deli', 13),\n",
      " ('dry_cleaning', 12),\n",
      " ('gift', 12),\n",
      " ('electronics', 11),\n",
      " ('copyshop', 10),\n",
      " ('variety_store', 10),\n",
      " ('sports', 9),\n",
      " ('car_parts', 8),\n",
      " ('tyres', 8)]\n"
     ]
    }
   ],
   "source": [
    "# Analysis 5:  25 Most Common Shops in the City:\n",
    "\n",
    "import pprint\n",
    "cur.execute (\"SELECT value, COUNT(*) as num FROM nodes_tags \\\n",
    "             WHERE key = 'shop'\\\n",
    "             GROUP BY value \\\n",
    "             ORDER BY num DESC LIMIT 25;\")\n",
    "\n",
    "pprint.pprint(cur.fetchall())\n"
   ]
  },
  {
   "cell_type": "code",
   "execution_count": 13,
   "metadata": {},
   "outputs": [
    {
     "name": "stdout",
     "output_type": "stream",
     "text": [
      "[('801-396-9625',),\n",
      " ('435-527-5585',),\n",
      " ('(801) 447-6860',),\n",
      " ('801.575.2345',),\n",
      " ('(801) 262-4653',),\n",
      " ('801-466-8751',),\n",
      " ('801-483-5420',),\n",
      " ('801-250-6396',),\n",
      " ('(801) 238-7300',),\n",
      " ('801.533.4527',),\n",
      " ('801-535-6110',),\n",
      " ('801-539-0852',),\n",
      " ('801-524-8200',),\n",
      " ('+1 801 524 8100',),\n",
      " ('+1-801-532-5501',),\n",
      " ('(801) 973-6271',),\n",
      " ('385-468-1500',),\n",
      " ('801.583.9513',),\n",
      " ('801-581-6326',),\n",
      " ('+1 801 662 1000',),\n",
      " ('+1 801 587 7000',),\n",
      " ('+1 801 536 3500',),\n",
      " ('801-298-6040',),\n",
      " ('(801) 966-4653',),\n",
      " ('801) 266-8621',),\n",
      " ('385-468-1400',),\n",
      " ('801-414-4103',),\n",
      " ('+1 801 964 3100',),\n",
      " ('+1 801 328 3288',),\n",
      " ('+1-801-487-7736',),\n",
      " ('+1-385-468-1305',),\n",
      " ('1-801-539-8888',),\n",
      " ('(801) 484-7651',),\n",
      " ('385-468-1440',),\n",
      " ('(801) 264-3800',),\n",
      " ('+1 801 314 4100',),\n",
      " ('+1 801 363 1037',),\n",
      " ('+1 801 739 6585',),\n",
      " ('+1 801 333 3175',),\n",
      " ('+1 801 428 0366',),\n",
      " ('(801) 595-0000',),\n",
      " ('8014855427',),\n",
      " ('+1 801 461 4248',),\n",
      " ('8017465200',),\n",
      " ('+1 801 359 4020',),\n",
      " ('801.483.5418',),\n",
      " ('801.330.4406',),\n",
      " ('1-801-366-4444',),\n",
      " ('+1-801-264-4037',),\n",
      " ('801-410-4591',),\n",
      " ('+1 801 581 7200',),\n",
      " ('+1 801 264 7430',),\n",
      " ('+1 801 997 8580',),\n",
      " ('+1 801 581 2121',),\n",
      " ('801 942 1391',),\n",
      " ('801.596.5030',),\n",
      " ('801-955-9500',),\n",
      " ('+1 801 507 7000',),\n",
      " ('+1 801 596 1321',),\n",
      " ('801-966-7500',),\n",
      " ('(888) 674-0351',),\n",
      " ('801-977-8221',),\n",
      " ('+1-801-685-2862',),\n",
      " ('+1-801-572-4325',),\n",
      " ('801-355-0330',),\n",
      " ('+1 801 408 1100',),\n",
      " ('+1 801 539 5005',),\n",
      " ('+1 801 355-6655',),\n",
      " ('(801) 924-0372',),\n",
      " ('+1 801 594 8651',),\n",
      " ('+1 (801) 298-2014',),\n",
      " ('+1 801 268 7111',),\n",
      " ('801-503-2000',),\n",
      " ('+1-801-935-4605',),\n",
      " ('801-322-2724',),\n",
      " ('801-955-9500',),\n",
      " ('+1 801 295 2361',),\n",
      " ('+1 801 299 2200',),\n",
      " ('+1 801 299 5319',),\n",
      " ('+1 801 350 4111',),\n",
      " ('+1 801 582 1565',),\n",
      " ('+1-801-278-1927',),\n",
      " ('+1-801-574-2454',),\n",
      " ('1(801)783-3645',),\n",
      " ('+1-801-213-8700',),\n",
      " ('+1-888-685-9300',)]\n"
     ]
    }
   ],
   "source": [
    "# Dataset Problem 1: Phone Numbers\n",
    "\n",
    "import pprint\n",
    "cur.execute (\"SELECT value  FROM ways_tags \\\n",
    "             WHERE key = 'phone';\")\n",
    "\n",
    "pprint.pprint(cur.fetchall())"
   ]
  },
  {
   "cell_type": "code",
   "execution_count": 15,
   "metadata": {},
   "outputs": [
    {
     "name": "stdout",
     "output_type": "stream",
     "text": [
      "OSM File Size is: 127.842843 MB\n",
      "project.db file is: 72.327168 MB\n",
      "nodes.csv file is: 48.703848 MB\n",
      "nodes_tags.csv file is: 1.998708 MB\n",
      "ways.csv file is: 4.128661 MB\n",
      "ways_nodes.csv file is: 16.130337 MB\n",
      "ways_tags.csv file is: 8.107374 MB\n"
     ]
    }
   ],
   "source": [
    "# Displaying sizes of all project files:\n",
    "\n",
    "import os\n",
    "\n",
    "print \"OSM File Size is:\", os.path.getsize('SLC.osm')*1e-6, \"MB\" \n",
    "print \"project.db file is:\", os.path.getsize('project.db')*1e-6, \"MB\"\n",
    "print \"nodes.csv file is:\", os.path.getsize('nodes.csv')*1e-6, \"MB\"\n",
    "print \"nodes_tags.csv file is:\", os.path.getsize('nodes_tags.csv')*1e-6, \"MB\"\n",
    "print \"ways.csv file is:\", os.path.getsize('ways.csv')*1e-6, \"MB\"\n",
    "print \"ways_nodes.csv file is:\", os.path.getsize('ways_nodes.csv')*1e-6, \"MB\"\n",
    "print \"ways_tags.csv file is:\", os.path.getsize('ways_tags.csv')*1e-6, \"MB\"\n"
   ]
  }
 ],
 "metadata": {
  "anaconda-cloud": {},
  "kernelspec": {
   "display_name": "Python [conda root]",
   "language": "python",
   "name": "conda-root-py"
  },
  "language_info": {
   "codemirror_mode": {
    "name": "ipython",
    "version": 2
   },
   "file_extension": ".py",
   "mimetype": "text/x-python",
   "name": "python",
   "nbconvert_exporter": "python",
   "pygments_lexer": "ipython2",
   "version": "2.7.12"
  }
 },
 "nbformat": 4,
 "nbformat_minor": 1
}
